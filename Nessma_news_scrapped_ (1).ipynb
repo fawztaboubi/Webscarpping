{
  "nbformat": 4,
  "nbformat_minor": 0,
  "metadata": {
    "colab": {
      "name": "Nessma news scrapped .ipynb",
      "provenance": [],
      "collapsed_sections": []
    },
    "kernelspec": {
      "name": "python3",
      "display_name": "Python 3"
    }
  },
  "cells": [
    {
      "cell_type": "markdown",
      "metadata": {
        "id": "0ITkiQBCZQaH",
        "colab_type": "text"
      },
      "source": [
        "**This notebook is a simple uncommented draft**\n"
      ]
    },
    {
      "cell_type": "code",
      "metadata": {
        "id": "KOuvmIcVo0uf",
        "colab_type": "code",
        "outputId": "9e61f5f2-0c09-4b0a-f2ce-ac5d44715942",
        "colab": {
          "base_uri": "https://localhost:8080/",
          "height": 71
        }
      },
      "source": [
        "import bs4 as bs\n",
        "from urllib.request import urlopen as uReq\n",
        "from bs4 import BeautifulSoup as soup\n",
        "site = 'https://www.nessma.tv/ar'\n",
        "uClient= uReq(site)\n",
        "page_html=uClient.read()\n",
        "uClient.close()\n",
        "page_soup = soup(page_html,\"html.parser\")\n",
        "containers= page_soup.findAll(\"div\",{\"class\":\"taxo-menu\"},{\"id\":\"menu-principale\"})\n",
        "categories={}\n",
        "for url in containers:\n",
        "     ch=url.a.text\n",
        "     ch=ch.replace('\\n\\t\\t\\t\\t\\t\\t\\t\\t\\t\\t','')\n",
        "     if url.a['href']!= 'javascript:void(0)' :\n",
        "        categories[ch]= url.a[\"href\"]\n",
        "\n",
        "print(categories)\n",
        "titles=[]\n",
        "for key in categories.keys():\n",
        "  titles.append(key)\n",
        "\n",
        "print(titles)  \n",
        "\n",
        "\n"
      ],
      "execution_count": 1,
      "outputs": [
        {
          "output_type": "stream",
          "text": [
            "{'أخبار الجهات': 'https://www.nessma.tv/ar/%D8%A3%D8%AE%D8%A8%D8%A7%D8%B1-%D8%A7%D9%84%D8%AC%D9%87%D8%A7%D8%AA/26', 'الأخبار السياسية': 'https://www.nessma.tv/ar/%D8%B3%D9%8A%D8%A7%D8%B3%D8%A9/25', 'الأخبار الاقتصادية': 'https://www.nessma.tv/ar/%D8%A7%D9%82%D8%AA%D8%B5%D8%A7%D8%AF/24', 'الأخبار الرياضية': 'https://www.nessma.tv/ar/%D8%B1%D9%8A%D8%A7%D8%B6%D8%A9/27', 'أخبار التكنولوجيا': 'https://www.nessma.tv/ar/%D8%A3%D8%AE%D8%A8%D8%A7%D8%B1-%D8%A7%D9%84%D8%AA%D9%83%D9%86%D9%88%D9%84%D9%88%D8%AC%D9%8A%D8%A7/38', 'الأخبار الثقافية': 'https://www.nessma.tv/ar/%D8%AB%D9%82%D8%A7%D9%81%D8%A9/28', 'أخبار المجتمع': 'https://www.nessma.tv/ar/%D9%85%D8%AC%D8%AA%D9%85%D8%B9/32', 'مشاهير': 'https://www.nessma.tv/ar/%D9%85%D8%B4%D8%A7%D9%87%D9%8A%D8%B1-%D9%88-%D9%84%D8%A7%D9%8A%D9%81-%D8%B3%D8%AA%D8%A7%D9%8A%D9%84/44'}\n",
            "['أخبار الجهات', 'الأخبار السياسية', 'الأخبار الاقتصادية', 'الأخبار الرياضية', 'أخبار التكنولوجيا', 'الأخبار الثقافية', 'أخبار المجتمع', 'مشاهير']\n"
          ],
          "name": "stdout"
        }
      ]
    },
    {
      "cell_type": "markdown",
      "metadata": {
        "id": "5zyGhaVrJOr_",
        "colab_type": "text"
      },
      "source": [
        "**prototyping**\n",
        "\n",
        "extracting articles and titles from different pages of the same category "
      ]
    },
    {
      "cell_type": "code",
      "metadata": {
        "id": "EpFfwBLTjLVk",
        "colab_type": "code",
        "outputId": "8c3cd334-9de7-4cd9-dfcc-dd4dc21b4ea7",
        "colab": {
          "base_uri": "https://localhost:8080/",
          "height": 173
        }
      },
      "source": [
        "i=1\n",
        "titles2=[]\n",
        "articles=[]\n",
        "M=[][]\n",
        "while i<5 :\n",
        "    site = 'https://www.nessma.tv/ar/%D8%A3%D8%AE%D8%A8%D8%A7%D8%B1-%D8%A7%D9%84%D8%AC%D9%87%D8%A7%D8%AA/26?page='+str(i)\n",
        "    uClient= uReq(site)\n",
        "    page_html=uClient.read()\n",
        "    uClient.close()\n",
        "    page_soup2 = soup(page_html,\"html.parser\")\n",
        "    containers2=page_soup2.findAll('h2',{'class':'entry-title'})\n",
        "    for T in containers2 :\n",
        "      articles.append(T.a[\"href\"])\n",
        "      titles2.append(T.text)\n",
        "      M[i][0]=T.text\n",
        "      M[i][1]=T.a[\"href\"]\n",
        "    i+=1\n",
        "    print(site)\n",
        "print(articles) \n",
        "print(titles2) \n",
        "print(len(titles2))\n",
        "print(len(articles))"
      ],
      "execution_count": 2,
      "outputs": [
        {
          "output_type": "stream",
          "text": [
            "https://www.nessma.tv/ar/%D8%A3%D8%AE%D8%A8%D8%A7%D8%B1-%D8%A7%D9%84%D8%AC%D9%87%D8%A7%D8%AA/26?page=1\n",
            "https://www.nessma.tv/ar/%D8%A3%D8%AE%D8%A8%D8%A7%D8%B1-%D8%A7%D9%84%D8%AC%D9%87%D8%A7%D8%AA/26?page=2\n",
            "https://www.nessma.tv/ar/%D8%A3%D8%AE%D8%A8%D8%A7%D8%B1-%D8%A7%D9%84%D8%AC%D9%87%D8%A7%D8%AA/26?page=3\n",
            "https://www.nessma.tv/ar/%D8%A3%D8%AE%D8%A8%D8%A7%D8%B1-%D8%A7%D9%84%D8%AC%D9%87%D8%A7%D8%AA/26?page=4\n",
            "['https://www.nessma.tv/ar/%D8%A3%D8%AE%D8%A8%D8%A7%D8%B1-%D8%A7%D9%84%D8%AC%D9%87%D8%A7%D8%AA/actu/%D9%83%D9%88%D8%B1%D9%88%D9%86%D8%A7-18-%D8%B9%D9%8A%D9%86%D8%A9-%D8%AA%D8%AD%D9%84%D9%8A%D9%84-%D9%81%D9%8A-%D8%A7%D9%84%D9%82%D8%B5%D8%B1%D9%8A%D9%86-%D8%B3%D9%84%D8%A8%D9%8A%D8%A9/215130', 'https://www.nessma.tv/ar/%D8%A3%D8%AE%D8%A8%D8%A7%D8%B1-%D8%A7%D9%84%D8%AC%D9%87%D8%A7%D8%AA/actu/%D9%85%D9%86%D9%88%D8%A8%D8%A9-%D8%AD%D8%AC%D8%B2-%D9%83%D9%85%D9%8A%D8%A9-%D9%85%D9%86-%D8%A7%D9%84%D8%B3%D8%A7%D8%A6%D9%84-%D8%A7%D9%84%D9%85%D8%B9%D9%82%D9%85-%D8%BA%D9%8A%D8%B1-%D8%A7%D9%84%D8%B5%D8%A7%D9%84%D8%AD-%D9%84%D9%84%D8%A7%D8%B3%D8%AA%D8%B9%D9%85%D8%A7%D9%84/215046', 'https://www.nessma.tv/ar/%D8%A3%D8%AE%D8%A8%D8%A7%D8%B1-%D8%A7%D9%84%D8%AC%D9%87%D8%A7%D8%AA/actu/%D9%84%D8%A7-%D8%A5%D8%B5%D8%A7%D8%A8%D8%A7%D8%AA-%D8%AC%D8%AF%D9%8A%D8%AF%D8%A9-%D8%A8%D9%81%D9%8A%D8%B1%D9%88%D8%B3-%D9%83%D9%88%D8%B1%D9%88%D9%86%D8%A7-%D9%81%D9%8A-%D8%A7%D9%84%D9%85%D9%86%D8%B3%D8%AA%D9%8A%D8%B1/215030', 'https://www.nessma.tv/ar/%D8%A3%D8%AE%D8%A8%D8%A7%D8%B1-%D8%A7%D9%84%D8%AC%D9%87%D8%A7%D8%AA/actu/%D9%85%D9%88%D8%B8%D9%81-%D8%A8%D8%A7%D9%84%D8%B4%D8%B1%D9%83%D8%A9-%D8%A7%D9%84%D8%AC%D9%87%D9%88%D9%8A%D8%A9-%D9%84%D9%84%D9%86%D9%82%D9%84-%D8%A8%D8%B3%D9%84%D9%8A%D8%A7%D9%86%D8%A9-%D9%8A%D8%B3%D8%AA%D9%88%D9%84%D9%8A-%D8%B9%D9%84%D9%89-111-%D8%A3%D9%84%D9%81-%D8%AF%D9%8A%D9%86%D8%A7%D8%B1/214958', 'https://www.nessma.tv/ar/%D8%A3%D8%AE%D8%A8%D8%A7%D8%B1-%D8%A7%D9%84%D8%AC%D9%87%D8%A7%D8%AA/actu/%D8%A5%D8%B5%D8%A7%D8%A8%D8%A7%D8%AA-%D8%AC%D8%AF%D9%8A%D8%AF%D8%A9-%D8%A8%D9%81%D9%8A%D8%B1%D9%88%D8%B3-%D9%83%D9%88%D8%B1%D9%88%D9%86%D8%A7-%D9%81%D9%8A-%D8%A3%D8%B1%D9%8A%D8%A7%D9%86%D8%A9/214922', 'https://www.nessma.tv/ar/%D8%A3%D8%AE%D8%A8%D8%A7%D8%B1-%D8%A7%D9%84%D8%AC%D9%87%D8%A7%D8%AA/actu/%D8%A7%D8%B9%D8%AA%D8%AF%D9%89-%D9%84%D9%81%D8%B8%D9%8A%D8%A7-%D8%B9%D9%84%D9%89-%D8%B1%D8%A6%D9%8A%D8%B3-%D8%A7%D9%84%D8%AC%D9%85%D9%87%D9%88%D8%B1%D9%8A%D8%A9-%D8%AA%D8%AD%D9%88%D9%8A%D9%84-%D9%85%D9%88%D8%A7%D8%B7%D9%86-%D8%A5%D9%84%D9%89-%D8%B3%D8%AC%D9%86-%D8%AD%D8%B1%D8%A8%D9%88%D8%A8/214910', 'https://www.nessma.tv/ar/%D8%A3%D8%AE%D8%A8%D8%A7%D8%B1-%D8%A7%D9%84%D8%AC%D9%87%D8%A7%D8%AA/actu/%D8%AC%D9%86%D8%AF%D9%88%D8%A8%D8%A9-%D8%A5%D8%AE%D8%B6%D8%A7%D8%B9-11-%D8%B9%D8%A7%D8%A6%D8%AF%D8%A7-%D9%85%D9%86-%D9%84%D9%8A%D8%A8%D9%8A%D8%A7-%D9%84%D9%84%D8%AD%D8%AC%D8%B1-%D8%A7%D9%84%D8%B5-%D8%AD%D9%8A-%D8%A7%D9%84%D8%A5%D8%AC%D8%A8%D8%A7%D8%B1%D9%8A/214904', 'https://www.nessma.tv/ar/%D8%A3%D8%AE%D8%A8%D8%A7%D8%B1-%D8%A7%D9%84%D8%AC%D9%87%D8%A7%D8%AA/actu/%D8%AF%D8%B9%D9%88%D8%A9-%D9%84%D9%85%D8%B2%D9%8A%D8%AF-%D8%A7%D9%84%D8%A7%D9%84%D8%AA%D8%B2%D8%A7%D9%85-%D8%A8%D8%A7%D9%84%D8%AD%D8%AC%D8%B1-%D8%A7%D9%84%D8%B5%D8%AD%D9%8A-%D9%88%D8%AA%D8%AC%D9%86%D8%A8-%D8%A7%D9%84%D8%A7%D8%AD%D8%AA%D9%83%D8%A7%D9%83-%D8%A8%D9%8A%D9%86-%D8%A3%D9%87%D8%A7%D9%84%D9%8A-%D9%85%D8%AF%D9%8A%D9%86%D8%A9-%D8%A7%D9%84%D9%82%D9%84%D8%B9%D8%A9/214898', 'https://www.nessma.tv/ar/%D8%A3%D8%AE%D8%A8%D8%A7%D8%B1-%D8%A7%D9%84%D8%AC%D9%87%D8%A7%D8%AA/actu/%D8%AF%D9%81%D9%86-%D9%85%D8%AA%D9%88%D9%81%D8%A7%D8%A9-%D9%81%D9%8A-%D8%AF%D8%AE%D9%8A%D9%84%D8%A9-%D8%AA%D9%88%D8%AC%D8%A7%D9%86-%D8%AD%D8%B3%D8%A8-%D8%A8%D8%B1%D9%88%D8%AA%D9%88%D9%83%D9%88%D9%84-%D9%83%D9%88%D9%81%D9%8A%D8%AF/214880', 'https://www.nessma.tv/ar/%D8%A3%D8%AE%D8%A8%D8%A7%D8%B1-%D8%A7%D9%84%D8%AC%D9%87%D8%A7%D8%AA/actu/%D8%A3%D8%B5%D8%AD%D8%A7%D8%A8-%D8%A7%D9%84%D9%84%D9%88%D8%A7%D8%AC-%D9%88%D8%A7%D9%84%D8%AA%D8%A7%D9%83%D8%B3%D9%8A-%D8%A7%D9%84%D8%AC%D9%85%D8%A7%D8%B9%D9%8A-%D9%81%D9%8A-%D8%B3%D9%88%D8%B3%D8%A9-%D9%8A%D8%AD%D8%AA%D8%AC%D9%88%D9%86/214878', 'https://www.nessma.tv/ar/%D8%A3%D8%AE%D8%A8%D8%A7%D8%B1-%D8%A7%D9%84%D8%AC%D9%87%D8%A7%D8%AA/actu/%D8%AC%D8%B1%D8%A8%D8%A9-%D8%A5%D8%AD%D8%AA%D8%AC%D8%A7%D8%AC%D8%A7%D8%AA-%D8%A3%D9%85%D8%A7%D9%85-%D9%85%D9%82%D8%B1-%D8%A7%D9%84%D9%85%D8%B9%D8%AA%D9%85%D8%AF%D9%8A%D8%A9/214874', 'https://www.nessma.tv/ar/%D8%A3%D8%AE%D8%A8%D8%A7%D8%B1-%D8%A7%D9%84%D8%AC%D9%87%D8%A7%D8%AA/actu/%D9%88%D8%A7%D9%84%D9%8A-%D9%82%D8%A8%D9%84%D9%8A-%D9%8A%D8%AA%D8%AD%D9%88-%D9%84-%D9%84%D9%84%D9%85%D9%86%D8%B3%D8%AA%D9%8A%D8%B1-%D9%84%D8%A5%D9%8A%D8%AC%D8%A7%D8%AF-%D8%AD%D9%84-%D9%84%D9%85%D8%B5%D8%A7%D8%A8%D9%8A-%D8%A7%D9%84%D9%82%D9%84%D8%B9%D8%A9/214860', 'https://www.nessma.tv/ar/%D8%A3%D8%AE%D8%A8%D8%A7%D8%B1-%D8%A7%D9%84%D8%AC%D9%87%D8%A7%D8%AA/actu/%D9%85%D8%AF%D9%86%D9%8A%D9%86-%D8%A7%D9%84%D9%85%D8%AE%D8%A8%D8%B1-%D8%A7%D9%84%D8%B9%D8%B3%D9%83%D8%B1%D9%8A-%D8%A7%D9%84%D9%85%D8%AA%D9%86%D9%82%D9%84-%D8%A3%D9%86%D9%87%D9%89-%D8%B9%D9%85%D9%84%D9%87-%D8%A8%D8%AC%D9%87%D8%A9-%D8%A7%D9%84%D8%AC%D9%86%D9%88%D8%A8-%D8%A7%D9%84%D8%B4%D8%B1%D9%82%D9%8A/214854', 'https://www.nessma.tv/ar/%D8%A3%D8%AE%D8%A8%D8%A7%D8%B1-%D8%A7%D9%84%D8%AC%D9%87%D8%A7%D8%AA/actu/%D8%A7%D8%AD%D8%AA%D8%AC%D8%A7%D8%AC%D8%A7%D8%AA-%D9%81%D9%8A-%D8%A7%D9%84%D9%82-%D9%84%D8%B9%D8%A9-%D9%85%D8%B5%D8%A7%D8%A8%D8%A9-%D8%A8-%D9%83%D9%88%D8%B1%D9%88%D9%86%D8%A7-%D8%AA%D8%B1%D9%88%D9%8A-%D8%B8%D8%B1%D9%88%D9%81-%D8%A7%D9%84%D8%A5%D9%82%D8%A7%D9%85%D8%A9-%D8%A8%D9%85%D8%A8%D9%8A%D8%AA-%D9%81%D9%8A-%D8%B3%D9%88%D8%B3%D8%A9/214846', 'https://www.nessma.tv/ar/%D8%A3%D8%AE%D8%A8%D8%A7%D8%B1-%D8%A7%D9%84%D8%AC%D9%87%D8%A7%D8%AA/actu/%D9%83%D9%88%D8%B1%D9%88%D9%86%D8%A7-%D8%AD%D8%A7%D9%84%D8%A9-%D8%B4%D9%81%D8%A7%D8%A1-%D8%AC%D8%AF%D9%8A%D8%AF%D8%A9-%D9%81%D9%8A-%D9%82%D8%A7%D8%A8%D8%B3/214830', 'https://www.nessma.tv/ar/%D8%A3%D8%AE%D8%A8%D8%A7%D8%B1-%D8%A7%D9%84%D8%AC%D9%87%D8%A7%D8%AA/actu/%D8%A7%D9%84%D9%83%D8%A7%D9%81-%D8%B2%D9%8A%D8%A7%D8%B1%D8%A9-%D9%84%D9%8A%D9%84%D9%8A%D8%A9-%D8%BA%D9%8A%D8%B1-%D9%85%D8%B9%D9%84%D9%86%D8%A9-%D9%84%D9%88%D8%B2%D9%8A%D8%B1-%D8%A7%D9%84%D8%B5-%D8%AD%D8%A9-%D8%A5%D9%84%D9%89-%D8%A7%D9%84%D9%85%D8%B3%D8%AA%D8%B4%D9%81%D9%89-%D8%A7%D9%84%D8%AC%D9%87%D9%88%D9%8A/214822', 'https://www.nessma.tv/ar/%D8%A3%D8%AE%D8%A8%D8%A7%D8%B1-%D8%A7%D9%84%D8%AC%D9%87%D8%A7%D8%AA/actu/%D8%B3%D9%8A%D8%AF%D9%8A-%D8%A8%D9%88%D8%B2%D9%8A%D8%AF-%D8%B4%D8%A7%D8%A8-%D8%B6%D8%B1%D9%85-%D8%A7%D9%84%D9%86%D8%A7%D8%B1-%D9%81%D9%8A-%D8%B3%D9%8A%D8%A7%D8%B1%D8%A9-%D9%85%D8%B9%D8%AA%D9%85%D8%AF-%D8%A7%D9%84%D9%85%D8%B2%D9%88%D9%86%D8%A9/214774', 'https://www.nessma.tv/ar/%D8%A3%D8%AE%D8%A8%D8%A7%D8%B1-%D8%A7%D9%84%D8%AC%D9%87%D8%A7%D8%AA/actu/%D8%A8%D9%86%D8%B2%D8%B1%D8%AA-%D8%A7%D9%84%D9%82%D8%A8%D8%B6-%D8%B9%D9%84%D9%89-%D8%B4%D8%AE%D8%B5%D9%8A%D9%86-%D8%A8%D8%AA%D9%87%D9%85%D8%A9-%D8%A7%D9%84%D8%A5%D9%86%D8%AA%D9%85%D8%A7%D8%A1-%D9%84%D8%AA%D9%86%D8%B8%D9%8A%D9%85-%D8%A5%D8%B1%D9%87%D8%A7%D8%A8%D9%8A/214740', 'https://www.nessma.tv/ar/%D8%A3%D8%AE%D8%A8%D8%A7%D8%B1-%D8%A7%D9%84%D8%AC%D9%87%D8%A7%D8%AA/actu/%D8%A8%D8%B9%D8%AF-%D8%BA%D9%84%D9%82%D9%87-%D9%84%D8%A3%D8%B3%D8%A8%D9%88%D8%B9%D9%8A%D9%86-%D8%A7%D8%B3%D8%AA%D8%A6%D9%86%D8%A7%D9%81-%D8%A7%D9%84%D9%86%D8%B4%D8%A7%D8%B7-%D8%A8%D8%A7%D9%84%D8%B3%D9%88%D9%82-%D8%A7%D9%84%D8%A3%D8%B3%D8%A8%D9%88%D8%B9%D9%8A%D8%A9-%D8%AE%D9%8A%D8%B1-%D8%A7%D9%84%D8%AF%D9%8A%D9%86-%D8%A8%D8%A7%D8%B4%D8%A7-%D8%A8%D8%A8%D8%A7%D8%AC%D8%A9/214704', 'https://www.nessma.tv/ar/%D8%A3%D8%AE%D8%A8%D8%A7%D8%B1-%D8%A7%D9%84%D8%AC%D9%87%D8%A7%D8%AA/actu/%D8%B3%D9%8A%D8%AF%D9%8A-%D8%A8%D9%88%D8%B2%D9%8A%D8%AF-26-%D8%A3%D9%84%D9%81-%D8%AF%D9%8A%D9%86%D8%A7%D8%B1-%D9%84%D8%AA%D9%85%D9%83%D9%8A%D9%86-700-%D8%B9%D8%A7%D8%A6%D9%84%D8%A9-%D9%85%D9%86-%D9%85%D8%B3%D8%A7%D8%B9%D8%AF%D8%A7%D8%AA-%D8%B9%D9%8A%D9%86%D9%8A%D8%A9/214594', 'https://www.nessma.tv/ar/%D8%A3%D8%AE%D8%A8%D8%A7%D8%B1-%D8%A7%D9%84%D8%AC%D9%87%D8%A7%D8%AA/actu/%D8%A3%D8%B1%D9%8A%D8%A7%D9%86%D8%A9-%D8%A7%D8%AA%D8%AE%D8%A7%D8%B0-%D8%B9%D8%AF%D9%8A%D8%AF-%D8%A7%D9%84%D8%AA%D8%AF%D8%A7%D8%A8%D9%8A%D8%B1-%D8%A7%D9%84%D9%88%D9%82%D8%A7%D8%A6%D9%8A%D8%A9-%D8%A8%D8%B9%D8%AF-%D8%A5%D8%B9%D8%A7%D8%AF%D8%A9-%D9%81%D8%AA%D8%AD-%D8%A7%D9%84%D8%A3%D8%B3%D9%88%D8%A7%D9%82-%D8%A7%D9%84%D8%A8%D9%84%D8%AF%D9%8A%D8%A9/214584', 'https://www.nessma.tv/ar/%D8%A3%D8%AE%D8%A8%D8%A7%D8%B1-%D8%A7%D9%84%D8%AC%D9%87%D8%A7%D8%AA/actu/%D9%85%D8%AF%D9%86%D9%8A%D9%86-%D8%AA%D8%A3%D9%85%D9%8A%D9%86-%D8%B9%D9%88%D8%AF%D8%A9-%D8%A7%D9%84%D8%B9%D8%A7%D9%84%D9%82%D9%8A%D9%86-%D8%A8%D8%AC%D8%B1%D8%A8%D8%A9-%D8%A5%D9%84%D9%89-%D8%AC%D9%87%D8%A7%D8%AA%D9%87%D9%85-%D8%A8%D8%A7%D9%84%D8%AA%D9%86%D8%B3%D9%8A%D9%82-%D8%A8%D9%8A%D9%86-%D8%A7%D9%84%D9%88%D9%84%D8%A7%D8%A9/214568', 'https://www.nessma.tv/ar/%D8%A3%D8%AE%D8%A8%D8%A7%D8%B1-%D8%A7%D9%84%D8%AC%D9%87%D8%A7%D8%AA/actu/%D8%AA%D8%B3%D8%AC%D9%8A%D9%84-%D8%A5%D8%B5%D8%A7%D8%A8%D8%A9-%D8%AC%D8%AF%D9%8A%D8%AF%D8%A9-%D8%A8%D9%81%D9%8A%D8%B1%D9%88%D8%B3-%D9%83%D9%88%D8%B1%D9%88%D9%86%D8%A7-%D9%81%D9%8A-%D9%85%D9%86%D8%B7%D9%82%D8%A9-%D8%AF%D8%AE%D9%8A%D9%84%D8%A9-%D8%AA%D9%88%D8%AC%D8%A7%D9%86-%D8%A8%D9%82%D8%A7%D8%A8%D8%B3/214558', 'https://www.nessma.tv/ar/%D8%A3%D8%AE%D8%A8%D8%A7%D8%B1-%D8%A7%D9%84%D8%AC%D9%87%D8%A7%D8%AA/actu/%D9%82%D8%A7%D8%A8%D8%B3-%D8%A7%D9%84%D8%AD%D8%B1%D8%B3-%D8%A7%D9%84%D8%AF%D9%8A%D9%88%D8%A7%D9%86%D9%8A-%D9%8A%D8%AD%D8%AC%D8%B2-%D9%83%D9%85%D9%8A%D8%A7%D8%AA-%D9%85%D9%86-%D8%A7%D9%84%D8%B4%D8%A7%D9%8A-%D9%88%D8%A7%D9%84%D8%B4%D9%85%D8%A7%D8%B1%D9%8A%D8%AE-%D8%A7%D9%84%D9%85%D9%87%D8%B1%D8%A8%D8%A9/214534', 'https://www.nessma.tv/ar/%D8%A3%D8%AE%D8%A8%D8%A7%D8%B1-%D8%A7%D9%84%D8%AC%D9%87%D8%A7%D8%AA/actu/%D9%88%D8%A7%D8%AF%D9%8A-%D8%A7%D9%84%D9%84%D9%8A%D9%84-%D8%AD%D8%B1%D8%A8-%D8%B4%D9%88%D8%A7%D8%B1%D8%B9-%D8%A8%D9%8A%D9%86-%D8%AD%D9%8A%D9%8A%D9%86-%D8%B4%D8%B9%D8%A8%D9%8A%D9%8A%D9%86/214500', 'https://www.nessma.tv/ar/%D8%A3%D8%AE%D8%A8%D8%A7%D8%B1-%D8%A7%D9%84%D8%AC%D9%87%D8%A7%D8%AA/actu/%D8%B3%D8%A8%D9%8A%D8%B7%D9%84%D8%A9-%D8%A7%D9%84%D9%82%D8%A8%D8%B6-%D8%B9%D9%84%D9%89-4-%D8%A3%D8%B4%D8%AE%D8%A7%D8%B5-%D9%8A%D8%AA%D8%A7%D8%AC%D8%B1%D9%88%D9%86-%D9%81%D9%8A-%D8%AE%D8%B1%D8%A7%D8%B7%D9%8A%D8%B4-%D8%A7%D9%84%D8%B5%D9%8A%D8%AF-%D8%AF%D9%88%D9%86-%D9%85%D9%88%D8%AC%D8%A8-%D9%82%D8%A7%D9%86%D9%88%D9%86%D9%8A/214488', 'https://www.nessma.tv/ar/%D8%A3%D8%AE%D8%A8%D8%A7%D8%B1-%D8%A7%D9%84%D8%AC%D9%87%D8%A7%D8%AA/actu/%D8%A7%D9%84%D9%82%D8%B5%D8%B1%D9%8A%D9%86-%D8%A7%D9%84%D8%AC%D9%86%D9%88%D8%A8%D9%8A%D8%A9-%D9%88%D9%82%D9%81%D8%A9-%D8%A7%D8%AD%D8%AA%D8%AC%D8%A7%D8%AC%D9%8A%D8%A9-%D9%84%D9%84%D9%85%D8%B7%D8%A7%D9%84%D8%A8%D8%A9-%D8%A8%D8%AA%D9%88%D9%81%D9%8A%D8%B1-%D8%A7%D9%84%D8%B3%D9%85%D9%8A%D8%AF/214474', 'https://www.nessma.tv/ar/%D8%A3%D8%AE%D8%A8%D8%A7%D8%B1-%D8%A7%D9%84%D8%AC%D9%87%D8%A7%D8%AA/actu/%D8%B9%D8%B7%D8%A8-%D8%A8%D9%85%D8%AE%D8%A8%D8%B1-%D9%85%D8%B9%D9%87%D8%AF-%D8%A8%D8%A7%D8%B3%D8%AA%D9%88%D8%B1-%D9%8A%D8%B3%D8%A7%D9%87%D9%85-%D9%81%D9%8A-%D8%AA%D8%A3%D8%AE%D8%B1-%D9%86%D8%AA%D8%A7%D8%A6%D8%AC-%D8%A7%D9%84%D8%AA%D8%AD%D8%A7%D9%84%D9%8A%D9%84/214438', 'https://www.nessma.tv/ar/%D8%A3%D8%AE%D8%A8%D8%A7%D8%B1-%D8%A7%D9%84%D8%AC%D9%87%D8%A7%D8%AA/actu/%D8%AA%D9%88%D8%B2%D8%B1-%D8%A5%D8%AD%D8%A8%D8%A7%D8%B7-%D8%B9%D9%85%D9%84%D9%8A%D8%A9-%D8%AA%D9%87%D8%B1%D9%8A%D8%A8-%D9%83%D9%85%D9%8A%D8%A9-%D9%87%D8%A7%D9%85%D8%A9-%D9%85%D9%86-%D8%A7%D9%84%D9%8A%D9%82%D8%B7%D9%8A%D9%86-%D8%A7%D9%84%D9%89-%D8%A7%D9%84%D8%AC%D8%B2%D8%A7%D8%A6%D8%B1-%D8%B5%D9%88%D8%B1/214396', 'https://www.nessma.tv/ar/%D8%A3%D8%AE%D8%A8%D8%A7%D8%B1-%D8%A7%D9%84%D8%AC%D9%87%D8%A7%D8%AA/actu/%D8%B2%D8%BA%D9%88%D8%A7%D9%86-%D9%86%D9%81%D9%88%D9%82-%D9%83%D9%85%D9%8A%D8%A7%D8%AA-%D9%85%D9%86-%D8%B3%D9%85%D9%83-%D8%A7%D9%84%D9%83%D8%A7%D8%B1%D8%A8-%D8%A7%D9%84%D8%B5%D9%8A%D9%86%D9%8A/214368', 'https://www.nessma.tv/ar/%D8%A3%D8%AE%D8%A8%D8%A7%D8%B1-%D8%A7%D9%84%D8%AC%D9%87%D8%A7%D8%AA/actu/%D9%81%D9%8A%D8%B1%D9%88%D8%B3-%D9%83%D9%88%D8%B1%D9%88%D9%86%D8%A7-%D8%A7%D8%AA%D8%AD%D8%A7%D8%AF-%D8%A7%D9%84%D8%B4%D8%BA%D9%84-%D8%A8%D8%B3%D9%84%D9%8A%D8%A7%D9%86%D8%A9-%D9%8A%D8%B4%D9%83%D9%83-%D9%81%D9%8A-%D8%B5%D8%AF%D9%82%D9%8A%D8%A9-%D8%A7%D9%84%D9%86%D8%AA%D8%A7%D8%A6%D8%AC-%D8%A7%D9%84%D9%85%D8%B9%D9%84%D9%86%D8%A9/214354', 'https://www.nessma.tv/ar/%D8%A3%D8%AE%D8%A8%D8%A7%D8%B1-%D8%A7%D9%84%D8%AC%D9%87%D8%A7%D8%AA/actu/%D8%AA%D8%B3%D8%AC%D9%8A%D9%84-5-%D8%A5%D8%B5%D8%A7%D8%A8%D8%A7%D8%AA-%D8%AC%D8%AF%D9%8A%D8%AF%D8%A9-%D8%A8%D9%81%D9%8A%D8%B1%D9%88%D8%B3-%D9%83%D9%88%D8%B1%D9%88%D9%86%D8%A7-%D9%81%D9%8A-%D8%A3%D8%B1%D9%8A%D8%A7%D9%86%D8%A9/214346', 'https://www.nessma.tv/ar/%D8%A3%D8%AE%D8%A8%D8%A7%D8%B1-%D8%A7%D9%84%D8%AC%D9%87%D8%A7%D8%AA/actu/%D8%AC%D8%B1%D8%A8%D8%A9-%D8%B9%D8%A7%D9%84%D9%82%D9%88%D9%86-%D8%A8%D8%A7%D9%84%D8%AC%D8%B2%D9%8A%D8%B1%D8%A9-%D9%8A%D8%B7%D8%A7%D9%84%D8%A8%D9%88%D9%86-%D8%A8%D8%A5%D8%AC%D9%84%D8%A7%D8%A6%D9%87%D9%85-%D9%81%D9%88%D8%B1%D8%A7/214338', 'https://www.nessma.tv/ar/%D8%A3%D8%AE%D8%A8%D8%A7%D8%B1-%D8%A7%D9%84%D8%AC%D9%87%D8%A7%D8%AA/actu/%D8%AA%D9%88%D8%B2%D8%B1-%D8%B1%D8%AC%D9%84-%D8%A3%D8%B9%D9%85%D8%A7%D9%84-%D9%8A%D9%82%D8%AF%D9%85-%D9%85%D8%B3%D8%A7%D8%B9%D8%AF%D8%A7%D8%AA-%D8%B7%D8%A8%D9%8A%D8%A9-%D8%B5%D9%88%D8%B1/214332', 'https://www.nessma.tv/ar/%D8%A3%D8%AE%D8%A8%D8%A7%D8%B1-%D8%A7%D9%84%D8%AC%D9%87%D8%A7%D8%AA/actu/%D8%B3%D9%84%D9%8A%D8%A7%D9%86%D8%A9-%D8%A5%D9%8A%D9%82%D8%A7%D9%81%D8%A7%D8%AA-%D9%88%D8%B3%D8%AD%D8%A8-%D8%B1%D8%AE%D8%B5-%D8%B3%D9%8A%D8%A7%D9%82%D8%A9-%D9%88%D8%A8%D8%B7%D8%A7%D9%82%D8%A7%D8%AA-%D8%B1%D9%85%D8%A7%D8%AF%D9%8A%D8%A9/214316', 'https://www.nessma.tv/ar/%D8%A3%D8%AE%D8%A8%D8%A7%D8%B1-%D8%A7%D9%84%D8%AC%D9%87%D8%A7%D8%AA/actu/%D8%A5%D8%B5%D8%A7%D8%A8%D8%A9-%D8%AC%D8%AF%D9%8A%D8%AF%D8%A9-%D8%A8%D9%83%D9%88%D8%B1%D9%88%D9%86%D8%A7-%D9%88%D8%B4%D9%81%D8%A7%D8%A1-%D9%85%D8%B1%D9%8A%D8%B6-%D8%B1%D8%A7%D8%A8%D8%B9-%D9%81%D9%8A-%D9%82%D8%A7%D8%A8%D8%B3/214308', 'https://www.nessma.tv/ar/%D8%A3%D8%AE%D8%A8%D8%A7%D8%B1-%D8%A7%D9%84%D8%AC%D9%87%D8%A7%D8%AA/actu/%D9%81%D9%8A%D8%B1%D9%88%D8%B3-%D9%83%D9%88%D8%B1%D9%88%D9%86%D8%A7-%D9%86%D8%AA%D8%A7%D8%A6%D8%AC-%D8%AA%D8%AD%D8%A7%D9%84%D9%8A%D9%84-83-%D8%B9%D9%8A%D9%86%D8%A9-%D9%81%D9%8A-%D8%A7%D9%84%D9%82%D8%B5%D8%B1%D9%8A%D9%86/214296', 'https://www.nessma.tv/ar/%D8%A3%D8%AE%D8%A8%D8%A7%D8%B1-%D8%A7%D9%84%D8%AC%D9%87%D8%A7%D8%AA/actu/%D8%A7%D9%84%D9%82%D9%8A%D8%B1%D9%88%D9%86%D8%A7-%D8%A7%D9%84%D8%B9%D8%AB%D9%88%D8%B1-%D8%B9%D9%84%D9%89-%D8%B3%D9%8A%D8%A7%D8%B1%D8%A9-%D9%82%D8%A7%D8%B6%D9%8A-%D8%A7%D9%84%D8%AA%D8%AD%D9%82%D9%8A%D9%82-%D8%A7%D9%84%D9%85%D8%B3%D8%B1%D9%88%D9%82%D8%A9/214186', 'https://www.nessma.tv/ar/%D8%A3%D8%AE%D8%A8%D8%A7%D8%B1-%D8%A7%D9%84%D8%AC%D9%87%D8%A7%D8%AA/actu/%D8%B3%D9%84%D9%8A%D8%A7%D9%86%D8%A9-%D8%A5%D8%AE%D8%B6%D8%A7%D8%B9-%D8%B9%D8%A7%D8%A6%D9%84%D8%A9-%D8%A8%D8%A3%D9%83%D9%85%D9%84%D9%87%D8%A7-%D9%84%D9%84%D8%AD%D8%AC%D8%B1-%D8%A7%D9%84%D8%B5%D8%AD%D9%8A/214184', 'https://www.nessma.tv/ar/%D8%A3%D8%AE%D8%A8%D8%A7%D8%B1-%D8%A7%D9%84%D8%AC%D9%87%D8%A7%D8%AA/actu/%D8%A5%D9%84%D8%BA%D8%A7%D8%A1-%D8%A7%D9%84%D8%B3%D9%88%D9%82-%D8%A7%D9%84%D9%85%D9%88%D8%B3%D9%85%D9%8A%D8%A9-%D8%A8%D9%85%D8%AF%D9%8A%D9%86%D8%A9-%D8%A7%D9%84%D9%85%D9%86%D8%B3%D8%AA%D9%8A%D8%B1/214140']\n",
            "['\\nكورونا: 18 عينة تحليل في القصرين سلبية\\n', '\\nمنوبة: حجز كمية من السائل المعقم غير الصالح للاستعمال\\n', '\\nولاية المنستير دون كورونا منذ أسبوع\\n', '\\nموظف بالشركة الجهوية للنقل بسليانة يستولي  على 111 ألف دينار\\n', '\\nإصابات جديدة بفيروس كورونا في أريانة\\n', '\\nاعتدى لفظيا على رئيس الجمهورية.. تحويل مواطن إلى سجن حربوب\\n', '\\nجندوبة: إخضاع 11 عائدا من ليبيا للحجر الصّحي الإجباري\\n', '\\nدعوة لمزيد الالتزام بالحجر الصحي وتجنب الاحتكاك بين أهالي مدينة القلعة\\n', '\\nدفن متوفاة في دخيلة توجان حسب بروتوكول كوفيد\\n', \"\\nأصحاب 'اللواج' والتاكسي الجماعي في سوسة يحتجون\\n\", '\\nجربة: إحتجاجات أمام مقر المعتمدية\\n', '\\nوالي قبلي يتحوّل للمنستير لإيجاد حلّ لإقامة مصابي القلعة\\n', '\\nالمخبر العسكري المتنقل بتطاوين أنهى عمله بجهة الجنوب الشرقي\\n', '\\nاحتجاجات في القُلعة..مصابة بـكورونا تروي ظروف الإقامة بمبيت في سوسة\\n', '\\nكورونا: حالة شفاء جديدة في قابس\\n', '\\nالكاف: زيارة ليلية غير معلنة لوزير الصّحة إلى المستشفى الجهوي\\n', '\\nسيدي بوزيد: شاب يضرم النار في سيارة معتمد المزونة!\\n', '\\nبنزرت: القبض على شخصين بتهمة الإنتماء لتنظيم إرهابي\\n', '\\nبعد غلقه لأسبوعين: استئناف النشاط بالسوق الأسبوعية خير الدين باشا بباجة\\n', '\\nسيدي بوزيد: 26 ألف دينار  لتمكين 700 عائلة من مساعدات عينية\\n', '\\nأريانة: اتخاذ عديد التدابير الوقائية بعد إعادة فتح الأسواق البلدية\\n', '\\nمدنين :تأمين عودة العالقين بجربة إلى جهاتهم بالتنسيق بين الولاة\\n', '\\nتسجيل إصابة جديدة بفيروس كورونا في منطقة دخيلة توجان بقابس\\n', '\\nقابس: الحرس الديواني يحجز كميات من الشاي والشماريخ المهربة\\n', \"\\nوادي الليل: ''حرب شوارع'' بين حيين شعبيين\\n\", '\\nسبيطلة: القبض على 4 أشخاص يتاجرون في خراطيش الصيد دون موجب قانوني\\n', \"\\nالقصرين الجنوبية: وقفة احتجاجية للمطالبة بتوفير ''السميد''\\n\", '\\nعطب بمخبر معهد باستور يساهم في تأخر نتائج التحاليل\\n', '\\nتوزر: إحباط عملية تهريب كمية هامة من اليقطين الى الجزائر (صور)\\n', \"\\nزغوان : نفوق كميات من سمك ''الكارب الصيني''\\xa0\\n\", '\\nفيروس كورونا: اتحاد الشغل بسليانة يشكك في صدقية النتائج المعلنة\\n', '\\nتسجيل 5 إصابات جديدة بفيروس كورونا في أريانة\\n', '\\nجربة: عالقون بالجزيرة يطالبون بإجلائهم فورا\\n', '\\nتوزر: رجل أعمال يقدم مساعدات طبية (صور)\\n', '\\nسليانة: إيقافات وسحب رخص سياقة وبطاقات رمادية\\n', '\\nإصابة جديدة بكورونا وشفاء مريض رابع في قابس\\n', '\\nفيروس كورونا: نتائج تحاليل 83 عينة في القصرين\\n', '\\nالقيروان: العثور على سيارة قاضي التحقيق المسروقة\\n', '\\nسليانة: إخضاع عائلة بأكملها للحجر الصحي\\n', '\\nإلغاء السوق الموسمية بمدينة المنستير\\n']\n",
            "40\n",
            "40\n"
          ],
          "name": "stdout"
        }
      ]
    },
    {
      "cell_type": "markdown",
      "metadata": {
        "id": "BT0xPCjQlRgv",
        "colab_type": "text"
      },
      "source": [
        "extract: puts all articles and titles respictively in a "
      ]
    },
    {
      "cell_type": "code",
      "metadata": {
        "id": "NtYNd8b4Blhc",
        "colab_type": "code",
        "colab": {}
      },
      "source": [
        "import numpy as np\n",
        "import string"
      ],
      "execution_count": 0,
      "outputs": []
    },
    {
      "cell_type": "code",
      "metadata": {
        "id": "HowmbAEwlDo9",
        "colab_type": "code",
        "colab": {}
      },
      "source": [
        "def extract (P) :\n",
        "  \n",
        "  titles2=[]\n",
        "  articles=[]\n",
        "  M=[[string , string]]\n",
        "  for i in range (30):\n",
        "     s=i\n",
        "     site = P+str(i)\n",
        "     uClient= uReq(site)\n",
        "     page_html=uClient.read()\n",
        "     uClient.close()\n",
        "     page_soup2 = soup(page_html,\"html.parser\")\n",
        "     containers2=page_soup2.findAll('h2',{'class':'entry-title'})\n",
        "     for T in containers2 :\n",
        "       articles.append(T.a[\"href\"])\n",
        "       ch=T.text\n",
        "       ch=ch.replace('\\n','')\n",
        "       titles2.append(ch)\n",
        "       M.append([ch,T.a[\"href\"]])\n",
        "       \n",
        "  return(np.mat(M))    \n",
        "L = extract('https://www.nessma.tv/ar/%D8%A3%D8%AE%D8%A8%D8%A7%D8%B1-%D8%A7%D9%84%D8%AC%D9%87%D8%A7%D8%AA/26?page=')\n",
        "print(L)\n",
        "print(len(L))"
      ],
      "execution_count": 0,
      "outputs": []
    },
    {
      "cell_type": "markdown",
      "metadata": {
        "id": "o1G3GT98N_FV",
        "colab_type": "text"
      },
      "source": [
        "going through all pages of all categoris , extracting articles and titles\n",
        "as I have no idea what kind of data format we need,I'm opting for all kinds and will delete the unecessary ones later."
      ]
    },
    {
      "cell_type": "code",
      "metadata": {
        "id": "dh9RlBNXd_Yu",
        "colab_type": "code",
        "colab": {}
      },
      "source": [
        "cat={}\n",
        "for ca in categories.keys() :\n",
        "  cat[ca]=[categories[ca] , extract(categories[ca]+'?page=') ]\n",
        "print(cat)  "
      ],
      "execution_count": 0,
      "outputs": []
    }
  ]
}